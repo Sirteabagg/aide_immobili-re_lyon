{
 "cells": [
  {
   "cell_type": "code",
   "execution_count": 1,
   "id": "f816c6c5",
   "metadata": {},
   "outputs": [],
   "source": [
    "import pandas as pd\n",
    "import numpy as np\n",
    "\n"
   ]
  },
  {
   "cell_type": "code",
   "execution_count": null,
   "id": "de7c8888",
   "metadata": {},
   "outputs": [],
   "source": []
  },
  {
   "cell_type": "code",
   "execution_count": 2,
   "id": "99287b8f",
   "metadata": {},
   "outputs": [
    {
     "data": {
      "text/plain": [
       "(16170, 2)"
      ]
     },
     "execution_count": 2,
     "metadata": {},
     "output_type": "execute_result"
    }
   ],
   "source": [
    "# Intervalles pour le Rhône (69)\n",
    "lat_min, lat_max = 45.4, 46.1\n",
    "lon_min, lon_max = 4.7, 5.2\n",
    "\n",
    "\n",
    "df_transport = pd.read_csv(\"../data/transports.csv\")\n",
    "# keep just stop_lat and stop_lon columns\n",
    "df_transport = df_transport[['stop_lat', 'stop_lon']]\n",
    "# rename it to lat and lon\n",
    "df_transport = df_transport.rename(columns={'stop_lat': 'lat', 'stop_lon': 'lon'})\n",
    "# drop rows with NaN values\n",
    "df_transport = df_transport.dropna()\n",
    "\n",
    "df_transport = df_transport[\n",
    "    (df_transport[\"lat\"] >= lat_min) & (df_transport[\"lat\"] <= lat_max) &\n",
    "    (df_transport[\"lon\"] >= lon_min) & (df_transport[\"lon\"] <= lon_max)\n",
    "]\n",
    "df_transport.shape"
   ]
  },
  {
   "cell_type": "code",
   "execution_count": 3,
   "id": "65f835da",
   "metadata": {},
   "outputs": [],
   "source": [
    "df_transport.to_csv(\"../csv_clean/transports.csv\", index=False)"
   ]
  }
 ],
 "metadata": {
  "kernelspec": {
   "display_name": "base",
   "language": "python",
   "name": "python3"
  },
  "language_info": {
   "codemirror_mode": {
    "name": "ipython",
    "version": 3
   },
   "file_extension": ".py",
   "mimetype": "text/x-python",
   "name": "python",
   "nbconvert_exporter": "python",
   "pygments_lexer": "ipython3",
   "version": "3.12.2"
  }
 },
 "nbformat": 4,
 "nbformat_minor": 5
}
