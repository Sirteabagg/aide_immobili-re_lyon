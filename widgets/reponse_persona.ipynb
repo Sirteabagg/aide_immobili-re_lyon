{
 "cells": [
  {
   "cell_type": "markdown",
   "id": "5659817a",
   "metadata": {},
   "source": [
    "# Imports"
   ]
  },
  {
   "cell_type": "code",
   "execution_count": 45,
   "id": "3b3f0ed2",
   "metadata": {},
   "outputs": [],
   "source": [
    "import pandas as pd\n",
    "import numpy as np"
   ]
  },
  {
   "cell_type": "code",
   "execution_count": 46,
   "id": "be5e5001",
   "metadata": {},
   "outputs": [],
   "source": [
    "# Importation des csv \n",
    "df_vf = pd.read_csv(\"../csv_clean/valeurs_foncieres_2024.csv\")\n",
    "df_vf_old = pd.read_csv(\"../csv_clean/valeurs_foncieres_2023.csv\")\n",
    "df_parcs = pd.read_csv(\"../csv_clean/parcs_jardins_communes_agg.csv\")\n",
    "df_college = pd.read_csv(\"../csv_clean/colleges.csv\")\n",
    "df_lycee = pd.read_csv(\"../csv_clean/lycees.csv\")"
   ]
  },
  {
   "cell_type": "markdown",
   "id": "2631ddde",
   "metadata": {},
   "source": [
    "# Tries besoins"
   ]
  },
  {
   "cell_type": "code",
   "execution_count": 47,
   "id": "2acd1ef4",
   "metadata": {},
   "outputs": [],
   "source": [
    "# besoins \n",
    "nbr_piece = 4 # minimum \n",
    "rapport_qualite_prix = 0.75 #% minimum \n",
    "investissement = 0.5\n",
    "\n",
    "# qualité \n",
    "surface = 70 # minimum \n",
    "score_vert = 75 #% minimum \n",
    "ecole = 5 # minimum"
   ]
  },
  {
   "cell_type": "code",
   "execution_count": 48,
   "id": "f768a1a3",
   "metadata": {},
   "outputs": [],
   "source": [
    "dict_24 = df_vf.groupby(\"nom_commune\")[\"valeur_fonciere\"].mean().to_dict()\n",
    "dict_20 = df_vf_old.groupby(\"nom_commune\")[\"valeur_fonciere\"].mean().to_dict()"
   ]
  },
  {
   "cell_type": "code",
   "execution_count": 49,
   "id": "4f304357",
   "metadata": {},
   "outputs": [
    {
     "name": "stdout",
     "output_type": "stream",
     "text": [
      "['azolette', 'bron', 'brullioles', 'chassieu', 'chaussan', 'chénas', 'cogny', 'courzieu', 'dardilly', 'dième', 'genas', 'givors', 'juliénas', 'la mulatière', 'lantignié', 'les haies', 'liergues', 'limas', 'longessaigne', 'lyon 1er arrondissement', 'lyon 5e arrondissement', 'marchampt', 'meaux-la-montagne', 'meys', 'millery', 'moiré', 'montromant', 'orliénas', 'pomeys', 'propières', 'ranchal', 'rivolet', 'rontalon', 'régnié-durette', 'saint-appolinaire', 'saint-bonnet-des-bruyères', 'saint-clément-sur-valsonne', 'saint-cyr-le-chatoux', 'saint-didier-sur-beaujeu', \"saint-genis-l'argentière\", 'saint-genis-laval', 'saint-georges-de-reneins', 'saint-igny-de-vers', \"saint-just-d'avray\", 'saint-laurent-de-chamousset', \"saint-nizier-d'azergues\", 'saint-pierre-la-palud', 'saint-romain-en-gier', 'sainte-colombe', \"sainte-foy-l'argentière\", 'tarare', 'ternand', 'thizy-les-bourgs', 'thurins', 'tupin-et-semons', 'valsonne', 'vauxrenard', 'vernay', 'villefranche-sur-saône', 'vindry-sur-turdine', 'vourles', 'échalas', 'émeringes']\n",
      "63 / 276 \n",
      "\n"
     ]
    }
   ],
   "source": [
    "commune_names = []\n",
    "bad_inv_name = []\n",
    "\n",
    "for key_24, key_20 in zip(dict_24, dict_20):\n",
    "    if dict_24[key_24] / dict_20[key_20] < investissement:\n",
    "        bad_inv_name.append(key_24)\n",
    "    else:\n",
    "        commune_names.append(key_24)\n",
    "\n",
    "print(bad_inv_name)\n",
    "print(len(bad_inv_name), '/', len(dict_24), '\\n')"
   ]
  },
  {
   "cell_type": "code",
   "execution_count": 50,
   "id": "3c08a145",
   "metadata": {},
   "outputs": [],
   "source": [
    "def filtred_df(df):\n",
    "    # join (concaténations) des collèges et lycées \n",
    "    df_ecoles = pd.concat([df_college, df_lycee])\n",
    "    df_ecoles[\"nb_ecoles\"] = df_ecoles.groupby(\"commune\")[\"commune\"].transform(\"count\")\n",
    "\n",
    "    # join (merge) les valeurs foncières et les parcs\n",
    "    df = df.merge(df_parcs[[\"code_commune\", \"score_espaces_verts\"]], on=\"code_commune\", how=\"left\")\n",
    "\n",
    "    # join (merge) de dataframe et les écoles \n",
    "    df = df.merge(df_ecoles[[\"code_postal\", \"nb_ecoles\"]], on=\"code_postal\", how=\"left\")\n",
    "\n",
    "    # sup les communes à mauvais investissement\n",
    "    df = df[~df[\"nom_commune\"].isin(bad_inv_name)]\n",
    "\n",
    "    # call function to filter with room and quality/price\n",
    "    df = filtered_room_quality_rpice(df)\n",
    "    \n",
    "    return df"
   ]
  },
  {
   "cell_type": "code",
   "execution_count": 51,
   "id": "ccabba54",
   "metadata": {},
   "outputs": [],
   "source": [
    "def filtered_room_quality_rpice(df):\n",
    "    # définir qualité pour faire rapport qualité/prix\n",
    "    df[\"qualite\"] = np.where(\n",
    "        (df[\"surface_reelle_bati\"] >= surface) & (df[\"score_espaces_verts\"] >= score_vert) & (df[\"nb_ecoles\"] >= ecole),\n",
    "        1,  # très bonne qualité\n",
    "        np.where(\n",
    "            (df[\"surface_reelle_bati\"] >= surface) | (df[\"score_espaces_verts\"] >= score_vert) | (df[\"nb_ecoles\"] >= ecole),\n",
    "            0.5,  # qualité moyenne\n",
    "            0   # faible qualité\n",
    "        )\n",
    "    )\n",
    "    print('Qualité moyenne :', df[\"qualite\"].mean())\n",
    "\n",
    "    # calcul du prix moyen dans la région lyonnaise \n",
    "    prix_moyen_lyon = df[\"valeur_fonciere\"].mean()\n",
    "    print('Prix moyen de Lyon :', round(prix_moyen_lyon))\n",
    "\n",
    "    # qualité / prix \n",
    "    df[\"qualite_prix\"] = (df[\"qualite\"] / df[\"valeur_fonciere\"]) * prix_moyen_lyon\n",
    "    print('Rapport qualité prix moyen :', df[\"qualite_prix\"].mean())\n",
    "\n",
    "    print('Nombre pièces moyennes :', df[\"nombre_pieces_principales\"].mean())\n",
    "    print('Nombre pièces max :', df[\"nombre_pieces_principales\"].max())\n",
    "\n",
    "    # filtrage des données \n",
    "    filtred_df = df[\n",
    "        (df[\"nombre_pieces_principales\"] >= nbr_piece) &\n",
    "        (df[\"qualite_prix\"] >= rapport_qualite_prix)\n",
    "    ].copy()\n",
    "\n",
    "    print(filtred_df.shape)\n",
    "    return filtred_df"
   ]
  },
  {
   "cell_type": "code",
   "execution_count": 52,
   "id": "784ee679",
   "metadata": {},
   "outputs": [
    {
     "name": "stdout",
     "output_type": "stream",
     "text": [
      "Qualité moyenne : 0.45671153413481763\n",
      "Prix moyen de Lyon : 590294\n",
      "Rapport qualité prix moyen : 2028.3825140461042\n",
      "Nombre pièces moyennes : 1.2531119860787414\n",
      "Nombre pièces max : 28.0\n",
      "(31355, 16)\n",
      "\n",
      " ['lyon 4e arrondissement' 'oullins' 'loire-sur-rhône' 'rillieux-la-pape'\n",
      " 'bessenay' 'fontaines-sur-saône' 'caluire-et-cuire' \"l'arbresle\"\n",
      " 'beauvallon' 'saint-germain-nuelles' 'lyon 9e arrondissement' 'quincieux'\n",
      " \"champagne-au-mont-d'or\" 'savigny' 'francheville' 'cublize'\n",
      " 'porte des pierres dorées' 'gleizé' 'tassin-la-demi-lune' 'brignais'\n",
      " 'belleville-en-beaujolais' 'anse' 'sainte-foy-lès-lyon' 'vernaison'\n",
      " 'blacé' 'saint-jean-la-bussière' 'lozanne' 'chamelet' 'écully' 'mornant'\n",
      " 'condrieu' 'irigny' 'cours' 'lyon 2e arrondissement'\n",
      " 'rochetaillée-sur-saône' 'odenas' 'villechenève' 'grandris' 'bully'\n",
      " 'quincié-en-beaujolais' 'sathonay-camp' 'saint-romain-en-gal' 'lentilly'\n",
      " 'craponne' 'genay' \"saint-marcel-l'éclairé\" 'poule-les-écharmeaux'\n",
      " 'brindas' 'grigny' 'saint-symphorien-sur-coise' 'corcelles-en-beaujolais'\n",
      " 'chasselay' 'charly' 'morancé' 'alix' 'châtillon' \"marcilly-d'azergues\"\n",
      " 'chaponost' 'chevinay' 'frontenas' 'neuville-sur-saône' 'cercié' 'trèves'\n",
      " 'messimy' 'arnas' 'pierre-bénite' 'sainte-paule' 'beaujeu' 'claveisolles'\n",
      " 'saint-lager' 'grézieu-la-varenne' 'saint-vincent-de-reins'\n",
      " 'grézieu-le-marché' 'saint-forgeux' 'amplepuis' 'la tour-de-salvagny'\n",
      " 'la chapelle-sur-coise' 'deux-grosnes' 'vaugneray' 'sainte-catherine'\n",
      " 'cenves' \"chazay-d'azergues\" 'charbonnières-les-bains' \"val d'oingt\"\n",
      " \"belmont-d'azergues\" 'taponas' 'charentay' \"couzon-au-mont-d'or\" 'ronno'\n",
      " 'chabanière' 'salles-arbuissonnas-en-beaujolais' 'chessy'\n",
      " \"curis-au-mont-d'or\" 'saint-martin-en-haut' 'lancié' 'larajasse'\n",
      " 'montrottier' 'montagny' 'joux' \"saint-laurent-d'agny\"\n",
      " 'chambost-longessaigne' 'souzy' 'lamure-sur-azergues'\n",
      " 'saint-romain-de-popey' \"fleurieux-sur-l'arbresle\" 'saint-julien'\n",
      " 'saint-genis-les-ollières' 'soucieu-en-jarrest' 'villié-morgon'\n",
      " 'saint-clément-les-places' 'haute-rivoire' 'chambost-allières'\n",
      " \"saint-germain-au-mont-d'or\" 'denicé' 'taluyers' 'le perréon' 'sarcey'\n",
      " 'fontaines-saint-martin' 'limonest' 'éveux' 'marcy' \"marcy-l'étoile\"\n",
      " 'longes' 'fleurie' 'ampuis' 'montanay' 'le breuil' 'sain-bel' 'pommiers'\n",
      " 'aigueperse' 'aveize' 'les chères' 'coise' 'yzeron'\n",
      " 'cailloux-sur-fontaines' 'létra' 'sathonay-village'\n",
      " \"collonges-au-mont-d'or\" 'riverie' 'saint-clément-de-vers' 'chiroubles'\n",
      " 'les sauvages' \"saint-cyr-au-mont-d'or\" 'lissieu' 'bibost'\n",
      " 'les ardillats' 'lacenas' 'lucenay' 'affoux' 'chénelette' 'les halles'\n",
      " 'pollionnay' 'theizé' \"civrieux-d'azergues\" 'vaux-en-beaujolais'\n",
      " 'saint-étienne-des-oullières' \"saint-didier-au-mont-d'or\" 'dracé'\n",
      " 'ville-sur-jarnioux' 'saint-cyr-sur-le-rhône' 'jullié' 'ambérieux'\n",
      " 'sourcieux-les-mines' 'montmelas-saint-sorlin' 'brussieu'\n",
      " \"poleymieux-au-mont-d'or\" 'bagnols' 'duerne' \"saint-romain-au-mont-d'or\"\n",
      " 'saint-andré-la-côte' 'lachassagne' 'charnay' 'saint-vérand' 'dommartin'\n",
      " 'albigny-sur-saône' 'ancy' 'saint-julien-sur-bibost' 'sainte-consorce'\n",
      " 'légny' 'lyon 8e arrondissement' 'villeurbanne' 'lyon 3e arrondissement'\n",
      " 'sérézin-du-rhône' 'saint-priest' 'meyzieu' 'décines-charpieu' 'mions'\n",
      " 'toussieu' 'vénissieux' 'lyon 7e arrondissement' 'vaulx-en-velin'\n",
      " 'communay' 'feyzin' 'lyon 6e arrondissement' 'jons' 'saint-fons' 'corbas'\n",
      " 'solaize' 'saint-laurent-de-mure' 'jonage' \"saint-symphorien-d'ozon\"\n",
      " 'ternay' 'pusignan' 'saint-pierre-de-chandieu' 'marennes'\n",
      " 'saint-bonnet-de-mure' 'colombier-saugnieu' 'chaponnay' 'simandres']\n"
     ]
    }
   ],
   "source": [
    "df24 = filtred_df(df_vf)\n",
    "print('\\n', df24[\"nom_commune\"].unique())\n"
   ]
  },
  {
   "cell_type": "code",
   "execution_count": 53,
   "id": "dc881fd6",
   "metadata": {},
   "outputs": [],
   "source": [
    "df24.to_csv(\"../csv_clean/filtered_valeurs_foncieres_2024.csv\", index=False)"
   ]
  }
 ],
 "metadata": {
  "kernelspec": {
   "display_name": "base",
   "language": "python",
   "name": "python3"
  },
  "language_info": {
   "codemirror_mode": {
    "name": "ipython",
    "version": 3
   },
   "file_extension": ".py",
   "mimetype": "text/x-python",
   "name": "python",
   "nbconvert_exporter": "python",
   "pygments_lexer": "ipython3",
   "version": "3.12.2"
  }
 },
 "nbformat": 4,
 "nbformat_minor": 5
}
